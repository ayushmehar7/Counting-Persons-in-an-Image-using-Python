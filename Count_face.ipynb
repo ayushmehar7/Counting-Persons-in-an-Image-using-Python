{
 "cells": [
  {
   "cell_type": "code",
   "execution_count": null,
   "metadata": {},
   "outputs": [],
   "source": [
    "#importing libraries\n",
    "import numpy as np\n",
    "import matplotlib.pyplot as plt\n",
    "%matplotlib inline \n",
    "#for displaying images inside jupyter notebook\n",
    "import cv2"
   ]
  },
  {
   "cell_type": "code",
   "execution_count": null,
   "metadata": {},
   "outputs": [],
   "source": [
    "#mtcnn required\n",
    "# pip install mtcnn\n",
    "from mtcnn import MTCNN"
   ]
  },
  {
   "cell_type": "code",
   "execution_count": null,
   "metadata": {},
   "outputs": [],
   "source": [
    "#model deployment\n",
    "detector = MTCNN()"
   ]
  },
  {
   "cell_type": "code",
   "execution_count": null,
   "metadata": {},
   "outputs": [],
   "source": [
    "#importing image using opencv\n",
    "img = cv2.imread(\"PATH\")"
   ]
  },
  {
   "cell_type": "code",
   "execution_count": null,
   "metadata": {},
   "outputs": [],
   "source": [
    "result = detector.detect_faces(img)\n",
    "#returns a list of dictionaries\n",
    "#each dictionary contains the coordinates of face,probablity of detecting face,coordiantes of eyes, nose and mouth"
   ]
  },
  {
   "cell_type": "code",
   "execution_count": null,
   "metadata": {},
   "outputs": [],
   "source": [
    "#no of faces in pic \n",
    "print(\"The imported picture contains {} perons\".format(len(result)))"
   ]
  },
  {
   "cell_type": "code",
   "execution_count": null,
   "metadata": {},
   "outputs": [],
   "source": [
    "#for visualing the datected faces in the  image\n",
    "def show_faces(result):\n",
    "    for i in range(len(result)):\n",
    "        x1, y1, width, height = result[i]['box']\n",
    "        x1, y1 = abs(x1), abs(y1)\n",
    "        x2, y2 = x1 + width, y1 + height\n",
    "        pic = cv2.rectangle(img,(x1,y1),(x2,y2),(0,0,255),5) #draws a  red rectangle around the face\n",
    "    #cv2.imwrite(\"PATH\",pic) ##OPTIONAL IF YOU WANT TO EXPORT THE PICTURE\n",
    "    return pic"
   ]
  },
  {
   "cell_type": "code",
   "execution_count": null,
   "metadata": {},
   "outputs": [],
   "source": [
    "pic = show_faces(result)\n",
    "pic = cv2.cvtColor(pic,cv2.COLOR_BGR2RGB)\n",
    "plt.imshow(pic)"
   ]
  }
 ],
 "metadata": {
  "kernelspec": {
   "display_name": "Python 3",
   "language": "python",
   "name": "python3"
  },
  "language_info": {
   "codemirror_mode": {
    "name": "ipython",
    "version": 3
   },
   "file_extension": ".py",
   "mimetype": "text/x-python",
   "name": "python",
   "nbconvert_exporter": "python",
   "pygments_lexer": "ipython3",
   "version": "3.7.4"
  }
 },
 "nbformat": 4,
 "nbformat_minor": 4
}
